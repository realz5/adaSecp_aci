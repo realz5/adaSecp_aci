{
 "cells": [
  {
   "cell_type": "code",
   "execution_count": 1,
   "id": "de55d30d",
   "metadata": {},
   "outputs": [],
   "source": [
    "import numpy as np\n",
    "import pandas as pd\n",
    "import matplotlib.pyplot as plt\n",
    "np.random.seed(98765)"
   ]
  },
  {
   "cell_type": "code",
   "execution_count": 2,
   "id": "6f4da49e",
   "metadata": {},
   "outputs": [],
   "source": [
    "# bsm data set\n",
    "data = pd.read_csv('data/cod.csv')\n",
    "\n",
    "col_names = data.columns\n",
    "data = data.to_numpy()\n",
    "\n",
    "# bsm\n",
    "# 1 Qin ; 5 Ssi ; 7 XBH2 ;8 SNO2 ;25 SO5\n",
    "covariate_col = ['1', '5', '7','25']\n",
    "response_col = '30' # COD\n",
    "\n",
    "X = data[:,np.where([t in covariate_col for t in col_names])[0]]\n",
    "Y = data[:,np.where(col_names==response_col)[0]].flatten()\n",
    "X = X.astype('float64')\n",
    "Y = Y.astype('float64')\n",
    "\n",
    "N = X.shape[0]\n",
    "train_lag = 500 # start predicting after train_lag many observations"
   ]
  },
  {
   "cell_type": "code",
   "execution_count": 3,
   "id": "e2ef59ed",
   "metadata": {},
   "outputs": [
    {
     "name": "stdout",
     "output_type": "stream",
     "text": [
      "Couldn't find program: 'false'\n"
     ]
    }
   ],
   "source": [
    "%%script false\n",
    "\n",
    "data = pd.read_csv('data/electricity-normalized.csv')\n",
    "col_names = data.columns\n",
    "data = data.to_numpy()\n",
    "\n",
    "# remove the first stretch of time where 'transfer' does not vary\n",
    "data = data[17760:]\n",
    "\n",
    "# set up variables for the task (predicting 'transfer')\n",
    "covariate_col = ['nswprice', 'nswdemand', 'vicprice', 'vicdemand']\n",
    "response_col = 'transfer'\n",
    "# keep data points for 9:00am - 12:00pm\n",
    "keep_rows = np.where((data[:,2]>data[17,2])&(data[:,2]<data[24,2]))[0]\n",
    "\n",
    "X = data[keep_rows][:,np.where([t in covariate_col for t in col_names])[0]]\n",
    "Y = data[keep_rows][:,np.where(col_names==response_col)[0]].flatten()\n",
    "X = X.astype('float64')[:1500, :]\n",
    "Y = Y.astype('float64')[:1500]\n",
    "\n",
    "N = X.shape[0]\n",
    "train_lag = 500  # start predicting after train_lag many observations"
   ]
  },
  {
   "cell_type": "code",
   "execution_count": 4,
   "id": "e9a705c0",
   "metadata": {},
   "outputs": [
    {
     "name": "stderr",
     "output_type": "stream",
     "text": [
      "c:\\ProgramData\\Anaconda3\\envs\\py376_acr\\lib\\site-packages\\sklearn\\utils\\deprecation.py:144: FutureWarning: The sklearn.ensemble.forest module is  deprecated in version 0.22 and will be removed in version 0.24. The corresponding classes / functions should instead be imported from sklearn.ensemble. Anything that cannot be imported from sklearn.ensemble is now part of the private API.\n",
      "  warnings.warn(message, FutureWarning)\n",
      "c:\\ProgramData\\Anaconda3\\envs\\py376_acr\\lib\\site-packages\\sklearn\\externals\\six.py:31: FutureWarning: The module is deprecated in version 0.21 and will be removed in version 0.23 since we've dropped support for Python 2.7. Please rely on the official version of six (https://pypi.org/project/six/).\n",
      "  \"(https://pypi.org/project/six/).\", FutureWarning)\n",
      "c:\\ProgramData\\Anaconda3\\envs\\py376_acr\\lib\\site-packages\\sklearn\\utils\\deprecation.py:144: FutureWarning: The sklearn.tree.tree module is  deprecated in version 0.22 and will be removed in version 0.24. The corresponding classes / functions should instead be imported from sklearn.tree. Anything that cannot be imported from sklearn.tree is now part of the private API.\n",
      "  warnings.warn(message, FutureWarning)\n"
     ]
    },
    {
     "name": "stdout",
     "output_type": "stream",
     "text": [
      "Running for alpha = 0.4\n",
      "Running for alpha = 0.3\n",
      "Running for alpha = 0.2\n",
      "Running for alpha = 0.1\n",
      "Running for alpha = 0.05\n",
      "Running for alpha = 0.01\n"
     ]
    }
   ],
   "source": [
    "# run all methods\n",
    "from models.cp import cqr, aecp, aecp_aci, secp, secp_aci, adaSecp, adaSecp_aci, calculate_wis\n",
    "\n",
    "methods = np.array([\n",
    "    \"cqr\",\n",
    "    \"aecp\",\n",
    "    \"secp\",\n",
    "    \"adaSecp\",\n",
    "    \"aecp_aci\",\n",
    "    \"secp_aci\",\n",
    "    \"adaSecp_aci\",\n",
    "])\n",
    "\n",
    "# Initialize alpha and erro\n",
    "PI_SCP = {method: np.zeros((N, 2)) for method in methods}\n",
    "alpha_t = {method: np.zeros((N+1-train_lag)) for method in methods}\n",
    "erro_t = {method: np.zeros((N+1-train_lag)) for method in methods}\n",
    "\n",
    "p_rf = np.zeros((N))\n",
    "alphas = [0.4, 0.3, 0.2, 0.1, 0.05, 0.01]\n",
    "\n",
    "# conformal_methods\n",
    "def train_conformal_methods(n, X_train, Y_train, X_test, Y_test, alpha_val=0.2):\n",
    "    results = {}\n",
    "    results['PI_cqr'] = cqr(X_train, Y_train, X_test, alpha_val)\n",
    "    results['PI_aecp'], p_rf[n] = aecp(X_train, Y_train, X_test, alpha_val)\n",
    "    results['PI_secp'], p_rf[n] = secp(X_train, Y_train, X_test, alpha_val)\n",
    "    results['PI_adaSecp'], p_rf[n] = adaSecp(X_train, Y_train, X_test, alpha_val)\n",
    "    results['PI_aecp_aci'], alpha_t['aecp_aci'][count+1], erro_t['aecp_aci'][count] = aecp_aci(count, X_train, Y_train, X_test, Y_test, alpha_val, alpha_t['aecp_aci'][count], erro_t['aecp_aci'], gamma=0.01)\n",
    "    results['PI_secp_aci'], alpha_t['secp_aci'][count+1], erro_t['secp_aci'][count] = secp_aci(count, X_train, Y_train, X_test, Y_test, alpha_val, alpha_t['secp_aci'][count], erro_t['secp_aci'], gamma=0.01)\n",
    "    results['PI_adaSecp_aci'], alpha_t['adaSecp_aci'][count+1], erro_t['adaSecp_aci'][count], p_rf[n] = adaSecp_aci(\n",
    "        count, X_train, Y_train, X_test, Y_test, alpha_val, alpha_t['adaSecp_aci'][count], erro_t['adaSecp_aci'], lamda=10, window_size_k=5, gamma=0.1) # λ, k, γ \n",
    "    \n",
    "    return results\n",
    "\n",
    "# Initializes the result dictionary\n",
    "results = {alpha: {method: {} for method in methods} for alpha in alphas}\n",
    "\n",
    "for alpha_val in alphas:\n",
    "    print(f\"Running for alpha = {alpha_val}\")\n",
    "\n",
    "    count = 0\n",
    "\n",
    "    for n in np.arange(train_lag, N):\n",
    "\n",
    "        X_train = X[(n-train_lag):n, :]\n",
    "        Y_train = Y[(n-train_lag):n]\n",
    "        X_test = X[n:(n+1)]\n",
    "        Y_test = Y[n:(n+1)]\n",
    "\n",
    "        # train\n",
    "        method_results = train_conformal_methods(n, X_train, Y_train, X_test, Y_test, alpha_val)\n",
    "\n",
    "        # save results\n",
    "        for method in methods:\n",
    "            PI_SCP[method][n, :] = method_results[f'PI_{method}']\n",
    "\n",
    "        count += 1\n",
    "\n",
    "    # caculate coverage, width, WIS\n",
    "    for m in methods:\n",
    "        pi_scp = PI_SCP[m]\n",
    "        results[alpha_val][m]['PI_cov'] = (pi_scp[train_lag:, 0] <= Y[train_lag:]) & (pi_scp[train_lag:, 1] >= Y[train_lag:])\n",
    "        results[alpha_val][m]['PI_width'] = pi_scp[train_lag:, 1] - pi_scp[train_lag:, 0]\n",
    "        results[alpha_val][m]['PI_wis'] = calculate_wis(Y[train_lag:], pi_scp[train_lag:, 0], pi_scp[train_lag:, 1], alpha_val)\n",
    "\n"
   ]
  },
  {
   "cell_type": "code",
   "execution_count": 5,
   "id": "b722afc4",
   "metadata": {},
   "outputs": [
    {
     "name": "stdout",
     "output_type": "stream",
     "text": [
      "\n",
      "Final Results for all alphas:\n",
      "['      ', 'coverage', 'mean width', 'mean wis']\n",
      "\n",
      "Results for alpha = 0.4:\n",
      "['cqr', '0.323', '1.080', '2.800']\n",
      "['aecp', '0.297', '1.064', '2.771']\n",
      "['secp', '0.440', '0.655', '1.609']\n",
      "['adaSecp', '0.542', '0.745', '1.241']\n",
      "['aecp_aci', '0.557', '1.556', '2.294']\n",
      "['secp_aci', '0.588', '0.832', '1.405']\n",
      "['adaSecp_aci', '0.595', '0.405', '0.746']\n",
      "\n",
      "Results for alpha = 0.3:\n",
      "['cqr', '0.448', '1.303', '3.028']\n",
      "['aecp', '0.425', '1.269', '2.958']\n",
      "['secp', '0.540', '0.783', '1.721']\n",
      "['adaSecp', '0.655', '0.841', '1.371']\n",
      "['aecp_aci', '0.840', '1.981', '2.328']\n",
      "['secp_aci', '0.868', '1.299', '1.485']\n",
      "['adaSecp_aci', '0.955', '1.418', '1.470']\n",
      "\n",
      "Results for alpha = 0.2:\n",
      "['cqr', '0.590', '1.559', '3.264']\n",
      "['aecp', '0.583', '1.501', '3.143']\n",
      "['secp', '0.682', '0.918', '1.870']\n",
      "['adaSecp', '0.755', '0.962', '1.512']\n",
      "['aecp_aci', '0.925', '2.136', '2.356']\n",
      "['secp_aci', '0.938', '1.434', '1.555']\n",
      "['adaSecp_aci', '0.963', '1.477', '1.541']\n",
      "\n",
      "Results for alpha = 0.1:\n",
      "['cqr', '0.765', '1.880', '3.621']\n",
      "['aecp', '0.775', '1.779', '3.324']\n",
      "['secp', '0.825', '1.115', '2.097']\n",
      "['adaSecp', '0.870', '1.132', '1.799']\n",
      "['aecp_aci', '0.973', '2.272', '2.350']\n",
      "['secp_aci', '0.968', '1.491', '1.625']\n",
      "['adaSecp_aci', '0.970', '1.498', '1.599']\n",
      "\n",
      "Results for alpha = 0.05:\n",
      "['cqr', '0.853', '2.071', '3.887']\n",
      "['aecp', '0.873', '1.994', '3.453']\n",
      "['secp', '0.905', '1.270', '2.244']\n",
      "['adaSecp', '0.932', '1.278', '2.001']\n",
      "['aecp_aci', '0.980', '2.306', '2.411']\n",
      "['secp_aci', '0.970', '1.503', '1.707']\n",
      "['adaSecp_aci', '0.973', '1.504', '1.703']\n",
      "\n",
      "Results for alpha = 0.01:\n",
      "['cqr', '0.943', '2.356', '4.398']\n",
      "['aecp', '0.965', '2.298', '3.050']\n",
      "['secp', '0.973', '1.509', '2.508']\n",
      "['adaSecp', '0.973', '1.509', '2.508']\n",
      "['aecp_aci', '0.980', '2.333', '2.859']\n",
      "['secp_aci', '0.973', '1.509', '2.508']\n",
      "['adaSecp_aci', '0.973', '1.508', '2.508']\n"
     ]
    }
   ],
   "source": [
    "# print results\n",
    "print(\"\\nFinal Results for all alphas:\")\n",
    "print(['      ', 'coverage', 'mean width','mean wis'])\n",
    "\n",
    "for alpha_val in alphas:\n",
    "    print(f\"\\nResults for alpha = {alpha_val}:\")\n",
    "    for m in methods:\n",
    "        coverage = np.mean(results[alpha_val][m]['PI_cov'])\n",
    "        mean_width = np.mean(results[alpha_val][m]['PI_width'])\n",
    "        mean_wis = results[alpha_val][m]['PI_wis']\n",
    "        print([m, \n",
    "               f\"{coverage:.3f}\", \n",
    "               f\"{mean_width:.3f}\", \n",
    "               f\"{mean_wis:.3f}\"])"
   ]
  },
  {
   "cell_type": "code",
   "execution_count": 6,
   "id": "b87acad1",
   "metadata": {},
   "outputs": [
    {
     "data": {
      "image/png": "[encoded data removed]",
      "text/plain": [
       "<Figure size 1000x600 with 1 Axes>"
      ]
     },
     "metadata": {},
     "output_type": "display_data"
    }
   ],
   "source": [
    "# box plot\n",
    "import seaborn as sns\n",
    "data_for_plot = {\n",
    "    'Method': [],\n",
    "    'Width': [],\n",
    "    'CI': []\n",
    "}\n",
    "\n",
    "for alpha_val in alphas:\n",
    "    for method in methods:\n",
    "        widths = results[alpha_val][method]['PI_width']\n",
    "        data_for_plot['Method'].extend([method] * len(widths))\n",
    "        data_for_plot['Width'].extend(widths)\n",
    "        data_for_plot['CI'].extend([f\"{int((1-alpha_val) * 100)}%\" for _ in range(len(widths))])\n",
    "\n",
    "df_plot = pd.DataFrame(data_for_plot)\n",
    "\n",
    "plt.figure(figsize=(10, 6))\n",
    "sns.boxplot(x='CI', y='Width', hue='Method', data=df_plot)\n",
    "plt.title('Prediction Interval Widths Across Methods and Confidence Intervals')\n",
    "plt.ylabel('Width')\n",
    "plt.xlabel('CI')\n",
    "plt.savefig('./fig/pi_boxplot', dpi=500, bbox_inches='tight')\n",
    "plt.show()"
   ]
  }
 ],
 "metadata": {
  "kernelspec": {
   "display_name": "base",
   "language": "python",
   "name": "python3"
  },
  "language_info": {
   "codemirror_mode": {
    "name": "ipython",
    "version": 3
   },
   "file_extension": ".py",
   "mimetype": "text/x-python",
   "name": "python",
   "nbconvert_exporter": "python",
   "pygments_lexer": "ipython3",
   "version": "3.7.6"
  },
  "vscode": {
   "interpreter": {
    "hash": "ad2bdc8ecc057115af97d19610ffacc2b4e99fae6737bb82f5d7fb13d2f2c186"
   }
  }
 },
 "nbformat": 4,
 "nbformat_minor": 5
}
