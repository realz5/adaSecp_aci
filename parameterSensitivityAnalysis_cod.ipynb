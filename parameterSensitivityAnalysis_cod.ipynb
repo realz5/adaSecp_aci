{
 "cells": [
  {
   "cell_type": "code",
   "execution_count": 1,
   "id": "de55d30d",
   "metadata": {},
   "outputs": [
    {
     "name": "stderr",
     "output_type": "stream",
     "text": [
      "c:\\ProgramData\\Anaconda3\\envs\\py376_acr\\lib\\site-packages\\sklearn\\utils\\deprecation.py:144: FutureWarning: The sklearn.ensemble.forest module is  deprecated in version 0.22 and will be removed in version 0.24. The corresponding classes / functions should instead be imported from sklearn.ensemble. Anything that cannot be imported from sklearn.ensemble is now part of the private API.\n",
      "  warnings.warn(message, FutureWarning)\n",
      "c:\\ProgramData\\Anaconda3\\envs\\py376_acr\\lib\\site-packages\\sklearn\\externals\\six.py:31: FutureWarning: The module is deprecated in version 0.21 and will be removed in version 0.23 since we've dropped support for Python 2.7. Please rely on the official version of six (https://pypi.org/project/six/).\n",
      "  \"(https://pypi.org/project/six/).\", FutureWarning)\n",
      "c:\\ProgramData\\Anaconda3\\envs\\py376_acr\\lib\\site-packages\\sklearn\\utils\\deprecation.py:144: FutureWarning: The sklearn.tree.tree module is  deprecated in version 0.22 and will be removed in version 0.24. The corresponding classes / functions should instead be imported from sklearn.tree. Anything that cannot be imported from sklearn.tree is now part of the private API.\n",
      "  warnings.warn(message, FutureWarning)\n"
     ]
    }
   ],
   "source": [
    "import numpy as np\n",
    "import pandas as pd\n",
    "import matplotlib.pyplot as plt\n",
    "from tqdm import tqdm\n",
    "from models.cp import adaSecp_aci\n",
    "np.random.seed(98765)"
   ]
  },
  {
   "cell_type": "code",
   "execution_count": 2,
   "id": "6f4da49e",
   "metadata": {},
   "outputs": [],
   "source": [
    "data = pd.read_csv('data/cod.csv')\n",
    "\n",
    "col_names = data.columns\n",
    "data = data.to_numpy()\n",
    "\n",
    "covariate_col = ['1', '5', '7','25']\n",
    "response_col = '30' # COD\n",
    "\n",
    "X = data[:,np.where([t in covariate_col for t in col_names])[0]]\n",
    "Y = data[:,np.where(col_names==response_col)[0]].flatten()\n",
    "X = X.astype('float64')\n",
    "Y = Y.astype('float64')\n",
    "\n",
    "N = X.shape[0]\n",
    "train_lag = 500 # start predicting after train_lag many observations"
   ]
  },
  {
   "cell_type": "code",
   "execution_count": 3,
   "id": "e886f186",
   "metadata": {},
   "outputs": [
    {
     "name": "stderr",
     "output_type": "stream",
     "text": [
      "Processing: γ=0.005, λ=0.1, k=1: 100%|██████████| 400/400 [00:04<00:00, 80.09it/s]\n"
     ]
    },
    {
     "name": "stdout",
     "output_type": "stream",
     "text": [
      "[0.9425, 1.3766772518746233]\n"
     ]
    },
    {
     "name": "stderr",
     "output_type": "stream",
     "text": [
      "Processing: γ=0.005, λ=1, k=1: 100%|██████████| 400/400 [00:05<00:00, 79.57it/s]\n"
     ]
    },
    {
     "name": "stdout",
     "output_type": "stream",
     "text": [
      "[0.95, 1.315102602606143]\n"
     ]
    },
    {
     "name": "stderr",
     "output_type": "stream",
     "text": [
      "Processing: γ=0.005, λ=5, k=1: 100%|██████████| 400/400 [00:05<00:00, 79.35it/s]\n"
     ]
    },
    {
     "name": "stdout",
     "output_type": "stream",
     "text": [
      "[0.9625, 1.2742785070741773]\n"
     ]
    },
    {
     "name": "stderr",
     "output_type": "stream",
     "text": [
      "Processing: γ=0.005, λ=10, k=1: 100%|██████████| 400/400 [00:05<00:00, 78.19it/s]\n"
     ]
    },
    {
     "name": "stdout",
     "output_type": "stream",
     "text": [
      "[0.9675, 1.2571045035518984]\n"
     ]
    },
    {
     "name": "stderr",
     "output_type": "stream",
     "text": [
      "Processing: γ=0.005, λ=20, k=1: 100%|██████████| 400/400 [00:05<00:00, 78.18it/s]\n"
     ]
    },
    {
     "name": "stdout",
     "output_type": "stream",
     "text": [
      "[0.9675, 1.2579801451954007]\n"
     ]
    },
    {
     "name": "stderr",
     "output_type": "stream",
     "text": [
      "Processing: γ=0.005, λ=0.1, k=5: 100%|██████████| 400/400 [00:05<00:00, 78.76it/s]\n"
     ]
    },
    {
     "name": "stdout",
     "output_type": "stream",
     "text": [
      "[0.9425, 1.3766917105456344]\n"
     ]
    },
    {
     "name": "stderr",
     "output_type": "stream",
     "text": [
      "Processing: γ=0.005, λ=1, k=5: 100%|██████████| 400/400 [00:04<00:00, 82.05it/s]\n"
     ]
    },
    {
     "name": "stdout",
     "output_type": "stream",
     "text": [
      "[0.9475, 1.32953538932451]\n"
     ]
    },
    {
     "name": "stderr",
     "output_type": "stream",
     "text": [
      "Processing: γ=0.005, λ=5, k=5: 100%|██████████| 400/400 [00:04<00:00, 81.43it/s]\n"
     ]
    },
    {
     "name": "stdout",
     "output_type": "stream",
     "text": [
      "[0.95, 1.2993574249440434]\n"
     ]
    },
    {
     "name": "stderr",
     "output_type": "stream",
     "text": [
      "Processing: γ=0.005, λ=10, k=5: 100%|██████████| 400/400 [00:04<00:00, 80.53it/s]\n"
     ]
    },
    {
     "name": "stdout",
     "output_type": "stream",
     "text": [
      "[0.9575, 1.2712898634670473]\n"
     ]
    },
    {
     "name": "stderr",
     "output_type": "stream",
     "text": [
      "Processing: γ=0.005, λ=20, k=5: 100%|██████████| 400/400 [00:05<00:00, 79.93it/s]\n"
     ]
    },
    {
     "name": "stdout",
     "output_type": "stream",
     "text": [
      "[0.9625, 1.2644289101378308]\n"
     ]
    },
    {
     "name": "stderr",
     "output_type": "stream",
     "text": [
      "Processing: γ=0.005, λ=0.1, k=10: 100%|██████████| 400/400 [00:05<00:00, 79.13it/s]\n"
     ]
    },
    {
     "name": "stdout",
     "output_type": "stream",
     "text": [
      "[0.9425, 1.3762816187186315]\n"
     ]
    },
    {
     "name": "stderr",
     "output_type": "stream",
     "text": [
      "Processing: γ=0.005, λ=1, k=10: 100%|██████████| 400/400 [00:04<00:00, 80.71it/s]\n"
     ]
    },
    {
     "name": "stdout",
     "output_type": "stream",
     "text": [
      "[0.945, 1.359779914875321]\n"
     ]
    },
    {
     "name": "stderr",
     "output_type": "stream",
     "text": [
      "Processing: γ=0.005, λ=5, k=10: 100%|██████████| 400/400 [00:04<00:00, 81.32it/s]\n"
     ]
    },
    {
     "name": "stdout",
     "output_type": "stream",
     "text": [
      "[0.95, 1.3126287734886446]\n"
     ]
    },
    {
     "name": "stderr",
     "output_type": "stream",
     "text": [
      "Processing: γ=0.005, λ=10, k=10: 100%|██████████| 400/400 [00:04<00:00, 82.06it/s]\n"
     ]
    },
    {
     "name": "stdout",
     "output_type": "stream",
     "text": [
      "[0.9575, 1.2668431318966173]\n"
     ]
    },
    {
     "name": "stderr",
     "output_type": "stream",
     "text": [
      "Processing: γ=0.005, λ=20, k=10: 100%|██████████| 400/400 [00:04<00:00, 81.57it/s]\n"
     ]
    },
    {
     "name": "stdout",
     "output_type": "stream",
     "text": [
      "[0.965, 1.2549661602609004]\n"
     ]
    },
    {
     "name": "stderr",
     "output_type": "stream",
     "text": [
      "Processing: γ=0.005, λ=0.1, k=15: 100%|██████████| 400/400 [00:05<00:00, 79.42it/s]\n"
     ]
    },
    {
     "name": "stdout",
     "output_type": "stream",
     "text": [
      "[0.9425, 1.3762998183429282]\n"
     ]
    },
    {
     "name": "stderr",
     "output_type": "stream",
     "text": [
      "Processing: γ=0.005, λ=1, k=15: 100%|██████████| 400/400 [00:05<00:00, 78.75it/s]\n"
     ]
    },
    {
     "name": "stdout",
     "output_type": "stream",
     "text": [
      "[0.945, 1.3599536664594583]\n"
     ]
    },
    {
     "name": "stderr",
     "output_type": "stream",
     "text": [
      "Processing: γ=0.005, λ=5, k=15: 100%|██████████| 400/400 [00:05<00:00, 79.14it/s]\n"
     ]
    },
    {
     "name": "stdout",
     "output_type": "stream",
     "text": [
      "[0.945, 1.3401218582215841]\n"
     ]
    },
    {
     "name": "stderr",
     "output_type": "stream",
     "text": [
      "Processing: γ=0.005, λ=10, k=15: 100%|██████████| 400/400 [00:05<00:00, 78.19it/s]\n"
     ]
    },
    {
     "name": "stdout",
     "output_type": "stream",
     "text": [
      "[0.9475, 1.3003943227987305]\n"
     ]
    },
    {
     "name": "stderr",
     "output_type": "stream",
     "text": [
      "Processing: γ=0.005, λ=20, k=15: 100%|██████████| 400/400 [00:05<00:00, 76.66it/s]\n"
     ]
    },
    {
     "name": "stdout",
     "output_type": "stream",
     "text": [
      "[0.9575, 1.2718011755517533]\n"
     ]
    },
    {
     "name": "stderr",
     "output_type": "stream",
     "text": [
      "Processing: γ=0.005, λ=0.1, k=20: 100%|██████████| 400/400 [00:05<00:00, 78.48it/s]\n"
     ]
    },
    {
     "name": "stdout",
     "output_type": "stream",
     "text": [
      "[0.9425, 1.3762796671944986]\n"
     ]
    },
    {
     "name": "stderr",
     "output_type": "stream",
     "text": [
      "Processing: γ=0.005, λ=1, k=20: 100%|██████████| 400/400 [00:04<00:00, 80.89it/s]\n"
     ]
    },
    {
     "name": "stdout",
     "output_type": "stream",
     "text": [
      "[0.9425, 1.3747145599647999]\n"
     ]
    },
    {
     "name": "stderr",
     "output_type": "stream",
     "text": [
      "Processing: γ=0.005, λ=5, k=20: 100%|██████████| 400/400 [00:04<00:00, 80.74it/s]\n"
     ]
    },
    {
     "name": "stdout",
     "output_type": "stream",
     "text": [
      "[0.945, 1.361427967636206]\n"
     ]
    },
    {
     "name": "stderr",
     "output_type": "stream",
     "text": [
      "Processing: γ=0.005, λ=10, k=20: 100%|██████████| 400/400 [00:04<00:00, 81.48it/s]\n"
     ]
    },
    {
     "name": "stdout",
     "output_type": "stream",
     "text": [
      "[0.945, 1.3323212696061817]\n"
     ]
    },
    {
     "name": "stderr",
     "output_type": "stream",
     "text": [
      "Processing: γ=0.005, λ=20, k=20: 100%|██████████| 400/400 [00:04<00:00, 81.22it/s]\n"
     ]
    },
    {
     "name": "stdout",
     "output_type": "stream",
     "text": [
      "[0.9525, 1.2970418179567098]\n"
     ]
    },
    {
     "name": "stderr",
     "output_type": "stream",
     "text": [
      "Processing: γ=0.01, λ=0.1, k=1: 100%|██████████| 400/400 [00:05<00:00, 79.52it/s]\n"
     ]
    },
    {
     "name": "stdout",
     "output_type": "stream",
     "text": [
      "[0.9475, 1.41374672001171]\n"
     ]
    },
    {
     "name": "stderr",
     "output_type": "stream",
     "text": [
      "Processing: γ=0.01, λ=1, k=1: 100%|██████████| 400/400 [00:05<00:00, 79.34it/s]\n"
     ]
    },
    {
     "name": "stdout",
     "output_type": "stream",
     "text": [
      "[0.95, 1.3654062170248364]\n"
     ]
    },
    {
     "name": "stderr",
     "output_type": "stream",
     "text": [
      "Processing: γ=0.01, λ=5, k=1: 100%|██████████| 400/400 [00:04<00:00, 80.41it/s]\n"
     ]
    },
    {
     "name": "stdout",
     "output_type": "stream",
     "text": [
      "[0.9625, 1.2538211744413807]\n"
     ]
    },
    {
     "name": "stderr",
     "output_type": "stream",
     "text": [
      "Processing: γ=0.01, λ=10, k=1: 100%|██████████| 400/400 [00:04<00:00, 80.20it/s]\n"
     ]
    },
    {
     "name": "stdout",
     "output_type": "stream",
     "text": [
      "[0.965, 1.237043841732949]\n"
     ]
    },
    {
     "name": "stderr",
     "output_type": "stream",
     "text": [
      "Processing: γ=0.01, λ=20, k=1: 100%|██████████| 400/400 [00:04<00:00, 80.01it/s]\n"
     ]
    },
    {
     "name": "stdout",
     "output_type": "stream",
     "text": [
      "[0.965, 1.2400066086912225]\n"
     ]
    },
    {
     "name": "stderr",
     "output_type": "stream",
     "text": [
      "Processing: γ=0.01, λ=0.1, k=5: 100%|██████████| 400/400 [00:05<00:00, 79.10it/s]\n"
     ]
    },
    {
     "name": "stdout",
     "output_type": "stream",
     "text": [
      "[0.9475, 1.4137820983575489]\n"
     ]
    },
    {
     "name": "stderr",
     "output_type": "stream",
     "text": [
      "Processing: γ=0.01, λ=1, k=5: 100%|██████████| 400/400 [00:04<00:00, 80.75it/s]\n"
     ]
    },
    {
     "name": "stdout",
     "output_type": "stream",
     "text": [
      "[0.95, 1.367222542935175]\n"
     ]
    },
    {
     "name": "stderr",
     "output_type": "stream",
     "text": [
      "Processing: γ=0.01, λ=5, k=5: 100%|██████████| 400/400 [00:04<00:00, 80.37it/s]\n"
     ]
    },
    {
     "name": "stdout",
     "output_type": "stream",
     "text": [
      "[0.9525, 1.2855345075731972]\n"
     ]
    },
    {
     "name": "stderr",
     "output_type": "stream",
     "text": [
      "Processing: γ=0.01, λ=10, k=5: 100%|██████████| 400/400 [00:04<00:00, 81.66it/s]\n"
     ]
    },
    {
     "name": "stdout",
     "output_type": "stream",
     "text": [
      "[0.955, 1.2602970715288553]\n"
     ]
    },
    {
     "name": "stderr",
     "output_type": "stream",
     "text": [
      "Processing: γ=0.01, λ=20, k=5: 100%|██████████| 400/400 [00:04<00:00, 81.17it/s]\n"
     ]
    },
    {
     "name": "stdout",
     "output_type": "stream",
     "text": [
      "[0.9625, 1.2464655870542742]\n"
     ]
    },
    {
     "name": "stderr",
     "output_type": "stream",
     "text": [
      "Processing: γ=0.01, λ=0.1, k=10: 100%|██████████| 400/400 [00:04<00:00, 80.64it/s]\n"
     ]
    },
    {
     "name": "stdout",
     "output_type": "stream",
     "text": [
      "[0.9475, 1.4133461416250008]\n"
     ]
    },
    {
     "name": "stderr",
     "output_type": "stream",
     "text": [
      "Processing: γ=0.01, λ=1, k=10: 100%|██████████| 400/400 [00:04<00:00, 81.05it/s]\n"
     ]
    },
    {
     "name": "stdout",
     "output_type": "stream",
     "text": [
      "[0.95, 1.4017041207600704]\n"
     ]
    },
    {
     "name": "stderr",
     "output_type": "stream",
     "text": [
      "Processing: γ=0.01, λ=5, k=10: 100%|██████████| 400/400 [00:04<00:00, 81.12it/s]\n"
     ]
    },
    {
     "name": "stdout",
     "output_type": "stream",
     "text": [
      "[0.95, 1.3671746484411589]\n"
     ]
    },
    {
     "name": "stderr",
     "output_type": "stream",
     "text": [
      "Processing: γ=0.01, λ=10, k=10: 100%|██████████| 400/400 [00:04<00:00, 80.29it/s]\n"
     ]
    },
    {
     "name": "stdout",
     "output_type": "stream",
     "text": [
      "[0.9525, 1.2864757542885175]\n"
     ]
    },
    {
     "name": "stderr",
     "output_type": "stream",
     "text": [
      "Processing: γ=0.01, λ=20, k=10: 100%|██████████| 400/400 [00:05<00:00, 79.28it/s]\n"
     ]
    },
    {
     "name": "stdout",
     "output_type": "stream",
     "text": [
      "[0.96, 1.2479588206838566]\n"
     ]
    },
    {
     "name": "stderr",
     "output_type": "stream",
     "text": [
      "Processing: γ=0.01, λ=0.1, k=15: 100%|██████████| 400/400 [00:04<00:00, 80.17it/s]\n"
     ]
    },
    {
     "name": "stdout",
     "output_type": "stream",
     "text": [
      "[0.9475, 1.413354741701815]\n"
     ]
    },
    {
     "name": "stderr",
     "output_type": "stream",
     "text": [
      "Processing: γ=0.01, λ=1, k=15: 100%|██████████| 400/400 [00:04<00:00, 81.55it/s]\n"
     ]
    },
    {
     "name": "stdout",
     "output_type": "stream",
     "text": [
      "[0.9475, 1.4148373719368827]\n"
     ]
    },
    {
     "name": "stderr",
     "output_type": "stream",
     "text": [
      "Processing: γ=0.01, λ=5, k=15: 100%|██████████| 400/400 [00:04<00:00, 80.92it/s]\n"
     ]
    },
    {
     "name": "stdout",
     "output_type": "stream",
     "text": [
      "[0.9475, 1.4171957135301392]\n"
     ]
    },
    {
     "name": "stderr",
     "output_type": "stream",
     "text": [
      "Processing: γ=0.01, λ=10, k=15: 100%|██████████| 400/400 [00:04<00:00, 80.81it/s]\n"
     ]
    },
    {
     "name": "stdout",
     "output_type": "stream",
     "text": [
      "[0.945, 1.370440697961004]\n"
     ]
    },
    {
     "name": "stderr",
     "output_type": "stream",
     "text": [
      "Processing: γ=0.01, λ=20, k=15: 100%|██████████| 400/400 [00:04<00:00, 81.41it/s]\n"
     ]
    },
    {
     "name": "stdout",
     "output_type": "stream",
     "text": [
      "[0.955, 1.2682984684716614]\n"
     ]
    },
    {
     "name": "stderr",
     "output_type": "stream",
     "text": [
      "Processing: γ=0.01, λ=0.1, k=20: 100%|██████████| 400/400 [00:04<00:00, 80.45it/s]\n"
     ]
    },
    {
     "name": "stdout",
     "output_type": "stream",
     "text": [
      "[0.9475, 1.4133678592258092]\n"
     ]
    },
    {
     "name": "stderr",
     "output_type": "stream",
     "text": [
      "Processing: γ=0.01, λ=1, k=20: 100%|██████████| 400/400 [00:04<00:00, 80.91it/s]\n"
     ]
    },
    {
     "name": "stdout",
     "output_type": "stream",
     "text": [
      "[0.9475, 1.414817896314225]\n"
     ]
    },
    {
     "name": "stderr",
     "output_type": "stream",
     "text": [
      "Processing: γ=0.01, λ=5, k=20: 100%|██████████| 400/400 [00:04<00:00, 81.11it/s]\n"
     ]
    },
    {
     "name": "stdout",
     "output_type": "stream",
     "text": [
      "[0.9475, 1.4173639505857696]\n"
     ]
    },
    {
     "name": "stderr",
     "output_type": "stream",
     "text": [
      "Processing: γ=0.01, λ=10, k=20: 100%|██████████| 400/400 [00:04<00:00, 81.56it/s]\n"
     ]
    },
    {
     "name": "stdout",
     "output_type": "stream",
     "text": [
      "[0.945, 1.381300716082865]\n"
     ]
    },
    {
     "name": "stderr",
     "output_type": "stream",
     "text": [
      "Processing: γ=0.01, λ=20, k=20: 100%|██████████| 400/400 [00:04<00:00, 81.35it/s]\n"
     ]
    },
    {
     "name": "stdout",
     "output_type": "stream",
     "text": [
      "[0.9525, 1.3091480977749093]\n"
     ]
    },
    {
     "name": "stderr",
     "output_type": "stream",
     "text": [
      "Processing: γ=0.05, λ=0.1, k=1: 100%|██████████| 400/400 [00:04<00:00, 80.47it/s]\n"
     ]
    },
    {
     "name": "stdout",
     "output_type": "stream",
     "text": [
      "[0.95, 1.3992142019013096]\n"
     ]
    },
    {
     "name": "stderr",
     "output_type": "stream",
     "text": [
      "Processing: γ=0.05, λ=1, k=1: 100%|██████████| 400/400 [00:04<00:00, 80.65it/s]\n"
     ]
    },
    {
     "name": "stdout",
     "output_type": "stream",
     "text": [
      "[0.95, 1.4037891277638062]\n"
     ]
    },
    {
     "name": "stderr",
     "output_type": "stream",
     "text": [
      "Processing: γ=0.05, λ=5, k=1: 100%|██████████| 400/400 [00:05<00:00, 79.01it/s]\n"
     ]
    },
    {
     "name": "stdout",
     "output_type": "stream",
     "text": [
      "[0.955, 1.2695821417928979]\n"
     ]
    },
    {
     "name": "stderr",
     "output_type": "stream",
     "text": [
      "Processing: γ=0.05, λ=10, k=1: 100%|██████████| 400/400 [00:05<00:00, 79.90it/s]\n"
     ]
    },
    {
     "name": "stdout",
     "output_type": "stream",
     "text": [
      "[0.955, 1.187402696460303]\n"
     ]
    },
    {
     "name": "stderr",
     "output_type": "stream",
     "text": [
      "Processing: γ=0.05, λ=20, k=1: 100%|██████████| 400/400 [00:04<00:00, 80.68it/s]\n"
     ]
    },
    {
     "name": "stdout",
     "output_type": "stream",
     "text": [
      "[0.96, 1.1558729428387151]\n"
     ]
    },
    {
     "name": "stderr",
     "output_type": "stream",
     "text": [
      "Processing: γ=0.05, λ=0.1, k=5: 100%|██████████| 400/400 [00:05<00:00, 69.66it/s]\n"
     ]
    },
    {
     "name": "stdout",
     "output_type": "stream",
     "text": [
      "[0.95, 1.3990243503354858]\n"
     ]
    },
    {
     "name": "stderr",
     "output_type": "stream",
     "text": [
      "Processing: γ=0.05, λ=1, k=5: 100%|██████████| 400/400 [00:04<00:00, 80.11it/s]\n"
     ]
    },
    {
     "name": "stdout",
     "output_type": "stream",
     "text": [
      "[0.9475, 1.4026664042481862]\n"
     ]
    },
    {
     "name": "stderr",
     "output_type": "stream",
     "text": [
      "Processing: γ=0.05, λ=5, k=5: 100%|██████████| 400/400 [00:05<00:00, 79.87it/s]\n"
     ]
    },
    {
     "name": "stdout",
     "output_type": "stream",
     "text": [
      "[0.95, 1.3342493053025262]\n"
     ]
    },
    {
     "name": "stderr",
     "output_type": "stream",
     "text": [
      "Processing: γ=0.05, λ=10, k=5: 100%|██████████| 400/400 [00:05<00:00, 79.94it/s]\n"
     ]
    },
    {
     "name": "stdout",
     "output_type": "stream",
     "text": [
      "[0.9525, 1.29597417675551]\n"
     ]
    },
    {
     "name": "stderr",
     "output_type": "stream",
     "text": [
      "Processing: γ=0.05, λ=20, k=5: 100%|██████████| 400/400 [00:04<00:00, 80.64it/s]\n"
     ]
    },
    {
     "name": "stdout",
     "output_type": "stream",
     "text": [
      "[0.9525, 1.270195097535775]\n"
     ]
    },
    {
     "name": "stderr",
     "output_type": "stream",
     "text": [
      "Processing: γ=0.05, λ=0.1, k=10: 100%|██████████| 400/400 [00:04<00:00, 80.62it/s]\n"
     ]
    },
    {
     "name": "stdout",
     "output_type": "stream",
     "text": [
      "[0.95, 1.433696265124374]\n"
     ]
    },
    {
     "name": "stderr",
     "output_type": "stream",
     "text": [
      "Processing: γ=0.05, λ=1, k=10: 100%|██████████| 400/400 [00:04<00:00, 81.17it/s]\n"
     ]
    },
    {
     "name": "stdout",
     "output_type": "stream",
     "text": [
      "[0.9475, 1.4003623350895582]\n"
     ]
    },
    {
     "name": "stderr",
     "output_type": "stream",
     "text": [
      "Processing: γ=0.05, λ=5, k=10: 100%|██████████| 400/400 [00:04<00:00, 81.23it/s]\n"
     ]
    },
    {
     "name": "stdout",
     "output_type": "stream",
     "text": [
      "[0.9475, 1.4277691970624253]\n"
     ]
    },
    {
     "name": "stderr",
     "output_type": "stream",
     "text": [
      "Processing: γ=0.05, λ=10, k=10: 100%|██████████| 400/400 [00:04<00:00, 81.24it/s]\n"
     ]
    },
    {
     "name": "stdout",
     "output_type": "stream",
     "text": [
      "[0.95, 1.3393654178231287]\n"
     ]
    },
    {
     "name": "stderr",
     "output_type": "stream",
     "text": [
      "Processing: γ=0.05, λ=20, k=10: 100%|██████████| 400/400 [00:04<00:00, 81.45it/s]\n"
     ]
    },
    {
     "name": "stdout",
     "output_type": "stream",
     "text": [
      "[0.9525, 1.2868710911376495]\n"
     ]
    },
    {
     "name": "stderr",
     "output_type": "stream",
     "text": [
      "Processing: γ=0.05, λ=0.1, k=15: 100%|██████████| 400/400 [00:04<00:00, 81.49it/s]\n"
     ]
    },
    {
     "name": "stdout",
     "output_type": "stream",
     "text": [
      "[0.95, 1.4337104399161609]\n"
     ]
    },
    {
     "name": "stderr",
     "output_type": "stream",
     "text": [
      "Processing: γ=0.05, λ=1, k=15: 100%|██████████| 400/400 [00:05<00:00, 79.83it/s]\n"
     ]
    },
    {
     "name": "stdout",
     "output_type": "stream",
     "text": [
      "[0.9475, 1.4320609959950497]\n"
     ]
    },
    {
     "name": "stderr",
     "output_type": "stream",
     "text": [
      "Processing: γ=0.05, λ=5, k=15: 100%|██████████| 400/400 [00:04<00:00, 80.24it/s]\n"
     ]
    },
    {
     "name": "stdout",
     "output_type": "stream",
     "text": [
      "[0.9475, 1.428114315701485]\n"
     ]
    },
    {
     "name": "stderr",
     "output_type": "stream",
     "text": [
      "Processing: γ=0.05, λ=10, k=15: 100%|██████████| 400/400 [00:04<00:00, 80.38it/s]\n"
     ]
    },
    {
     "name": "stdout",
     "output_type": "stream",
     "text": [
      "[0.9475, 1.385046890386817]\n"
     ]
    },
    {
     "name": "stderr",
     "output_type": "stream",
     "text": [
      "Processing: γ=0.05, λ=20, k=15: 100%|██████████| 400/400 [00:04<00:00, 80.46it/s]\n"
     ]
    },
    {
     "name": "stdout",
     "output_type": "stream",
     "text": [
      "[0.9525, 1.3125901338807295]\n"
     ]
    },
    {
     "name": "stderr",
     "output_type": "stream",
     "text": [
      "Processing: γ=0.05, λ=0.1, k=20: 100%|██████████| 400/400 [00:04<00:00, 80.86it/s]\n"
     ]
    },
    {
     "name": "stdout",
     "output_type": "stream",
     "text": [
      "[0.95, 1.4337228891079414]\n"
     ]
    },
    {
     "name": "stderr",
     "output_type": "stream",
     "text": [
      "Processing: γ=0.05, λ=1, k=20: 100%|██████████| 400/400 [00:04<00:00, 81.13it/s]\n"
     ]
    },
    {
     "name": "stdout",
     "output_type": "stream",
     "text": [
      "[0.9475, 1.4321373901710046]\n"
     ]
    },
    {
     "name": "stderr",
     "output_type": "stream",
     "text": [
      "Processing: γ=0.05, λ=5, k=20: 100%|██████████| 400/400 [00:04<00:00, 80.47it/s]\n"
     ]
    },
    {
     "name": "stdout",
     "output_type": "stream",
     "text": [
      "[0.9475, 1.4286283472972838]\n"
     ]
    },
    {
     "name": "stderr",
     "output_type": "stream",
     "text": [
      "Processing: γ=0.05, λ=10, k=20: 100%|██████████| 400/400 [00:04<00:00, 80.30it/s]\n"
     ]
    },
    {
     "name": "stdout",
     "output_type": "stream",
     "text": [
      "[0.9475, 1.3862191817767981]\n"
     ]
    },
    {
     "name": "stderr",
     "output_type": "stream",
     "text": [
      "Processing: γ=0.05, λ=20, k=20: 100%|██████████| 400/400 [00:04<00:00, 80.31it/s]\n"
     ]
    },
    {
     "name": "stdout",
     "output_type": "stream",
     "text": [
      "[0.95, 1.3655394014980706]\n"
     ]
    },
    {
     "name": "stderr",
     "output_type": "stream",
     "text": [
      "Processing: γ=0.1, λ=0.1, k=1: 100%|██████████| 400/400 [00:04<00:00, 80.10it/s]\n"
     ]
    },
    {
     "name": "stdout",
     "output_type": "stream",
     "text": [
      "[0.9475, 1.3994445503730302]\n"
     ]
    },
    {
     "name": "stderr",
     "output_type": "stream",
     "text": [
      "Processing: γ=0.1, λ=1, k=1: 100%|██████████| 400/400 [00:04<00:00, 81.51it/s]\n"
     ]
    },
    {
     "name": "stdout",
     "output_type": "stream",
     "text": [
      "[0.95, 1.4008994678760838]\n"
     ]
    },
    {
     "name": "stderr",
     "output_type": "stream",
     "text": [
      "Processing: γ=0.1, λ=5, k=1: 100%|██████████| 400/400 [00:04<00:00, 81.03it/s]\n"
     ]
    },
    {
     "name": "stdout",
     "output_type": "stream",
     "text": [
      "[0.9525, 1.2714053519115196]\n"
     ]
    },
    {
     "name": "stderr",
     "output_type": "stream",
     "text": [
      "Processing: γ=0.1, λ=10, k=1: 100%|██████████| 400/400 [00:04<00:00, 80.77it/s]\n"
     ]
    },
    {
     "name": "stdout",
     "output_type": "stream",
     "text": [
      "[0.9525, 1.1955900572538551]\n"
     ]
    },
    {
     "name": "stderr",
     "output_type": "stream",
     "text": [
      "Processing: γ=0.1, λ=20, k=1: 100%|██████████| 400/400 [00:04<00:00, 81.04it/s]\n"
     ]
    },
    {
     "name": "stdout",
     "output_type": "stream",
     "text": [
      "[0.955, 1.1470738184365499]\n"
     ]
    },
    {
     "name": "stderr",
     "output_type": "stream",
     "text": [
      "Processing: γ=0.1, λ=0.1, k=5: 100%|██████████| 400/400 [00:04<00:00, 80.86it/s]\n"
     ]
    },
    {
     "name": "stdout",
     "output_type": "stream",
     "text": [
      "[0.9475, 1.3993918282332265]\n"
     ]
    },
    {
     "name": "stderr",
     "output_type": "stream",
     "text": [
      "Processing: γ=0.1, λ=1, k=5: 100%|██████████| 400/400 [00:04<00:00, 81.21it/s]\n"
     ]
    },
    {
     "name": "stdout",
     "output_type": "stream",
     "text": [
      "[0.9475, 1.3993070772254879]\n"
     ]
    },
    {
     "name": "stderr",
     "output_type": "stream",
     "text": [
      "Processing: γ=0.1, λ=5, k=5: 100%|██████████| 400/400 [00:04<00:00, 80.19it/s]\n"
     ]
    },
    {
     "name": "stdout",
     "output_type": "stream",
     "text": [
      "[0.95, 1.3749446790481124]\n"
     ]
    },
    {
     "name": "stderr",
     "output_type": "stream",
     "text": [
      "Processing: γ=0.1, λ=10, k=5: 100%|██████████| 400/400 [00:04<00:00, 80.86it/s]\n"
     ]
    },
    {
     "name": "stdout",
     "output_type": "stream",
     "text": [
      "[0.95, 1.3085393954304354]\n"
     ]
    },
    {
     "name": "stderr",
     "output_type": "stream",
     "text": [
      "Processing: γ=0.1, λ=20, k=5: 100%|██████████| 400/400 [00:04<00:00, 81.50it/s]\n"
     ]
    },
    {
     "name": "stdout",
     "output_type": "stream",
     "text": [
      "[0.95, 1.3116283476597124]\n"
     ]
    },
    {
     "name": "stderr",
     "output_type": "stream",
     "text": [
      "Processing: γ=0.1, λ=0.1, k=10: 100%|██████████| 400/400 [00:04<00:00, 81.09it/s]\n"
     ]
    },
    {
     "name": "stdout",
     "output_type": "stream",
     "text": [
      "[0.9475, 1.3992504431978166]\n"
     ]
    },
    {
     "name": "stderr",
     "output_type": "stream",
     "text": [
      "Processing: γ=0.1, λ=1, k=10: 100%|██████████| 400/400 [00:05<00:00, 79.61it/s]\n"
     ]
    },
    {
     "name": "stdout",
     "output_type": "stream",
     "text": [
      "[0.9475, 1.3988397568645456]\n"
     ]
    },
    {
     "name": "stderr",
     "output_type": "stream",
     "text": [
      "Processing: γ=0.1, λ=5, k=10: 100%|██████████| 400/400 [00:04<00:00, 80.06it/s]\n"
     ]
    },
    {
     "name": "stdout",
     "output_type": "stream",
     "text": [
      "[0.95, 1.400059632903077]\n"
     ]
    },
    {
     "name": "stderr",
     "output_type": "stream",
     "text": [
      "Processing: γ=0.1, λ=10, k=10: 100%|██████████| 400/400 [00:04<00:00, 80.88it/s]\n"
     ]
    },
    {
     "name": "stdout",
     "output_type": "stream",
     "text": [
      "[0.95, 1.3416020927157075]\n"
     ]
    },
    {
     "name": "stderr",
     "output_type": "stream",
     "text": [
      "Processing: γ=0.1, λ=20, k=10: 100%|██████████| 400/400 [00:05<00:00, 79.68it/s]\n"
     ]
    },
    {
     "name": "stdout",
     "output_type": "stream",
     "text": [
      "[0.95, 1.2835230295035998]\n"
     ]
    },
    {
     "name": "stderr",
     "output_type": "stream",
     "text": [
      "Processing: γ=0.1, λ=0.1, k=15: 100%|██████████| 400/400 [00:04<00:00, 80.89it/s]\n"
     ]
    },
    {
     "name": "stdout",
     "output_type": "stream",
     "text": [
      "[0.9475, 1.39913583124461]\n"
     ]
    },
    {
     "name": "stderr",
     "output_type": "stream",
     "text": [
      "Processing: γ=0.1, λ=1, k=15: 100%|██████████| 400/400 [00:04<00:00, 81.43it/s]\n"
     ]
    },
    {
     "name": "stdout",
     "output_type": "stream",
     "text": [
      "[0.9475, 1.3985932063988522]\n"
     ]
    },
    {
     "name": "stderr",
     "output_type": "stream",
     "text": [
      "Processing: γ=0.1, λ=5, k=15: 100%|██████████| 400/400 [00:04<00:00, 81.50it/s]\n"
     ]
    },
    {
     "name": "stdout",
     "output_type": "stream",
     "text": [
      "[0.9475, 1.4276708873942061]\n"
     ]
    },
    {
     "name": "stderr",
     "output_type": "stream",
     "text": [
      "Processing: γ=0.1, λ=10, k=15: 100%|██████████| 400/400 [00:04<00:00, 81.54it/s]\n"
     ]
    },
    {
     "name": "stdout",
     "output_type": "stream",
     "text": [
      "[0.95, 1.406620177929289]\n"
     ]
    },
    {
     "name": "stderr",
     "output_type": "stream",
     "text": [
      "Processing: γ=0.1, λ=20, k=15: 100%|██████████| 400/400 [00:04<00:00, 81.38it/s]\n"
     ]
    },
    {
     "name": "stdout",
     "output_type": "stream",
     "text": [
      "[0.95, 1.3025360848375747]\n"
     ]
    },
    {
     "name": "stderr",
     "output_type": "stream",
     "text": [
      "Processing: γ=0.1, λ=0.1, k=20: 100%|██████████| 400/400 [00:04<00:00, 81.42it/s]\n"
     ]
    },
    {
     "name": "stdout",
     "output_type": "stream",
     "text": [
      "[0.9475, 1.3991608396545494]\n"
     ]
    },
    {
     "name": "stderr",
     "output_type": "stream",
     "text": [
      "Processing: γ=0.1, λ=1, k=20: 100%|██████████| 400/400 [00:04<00:00, 80.88it/s]\n"
     ]
    },
    {
     "name": "stdout",
     "output_type": "stream",
     "text": [
      "[0.9475, 1.3988626156239496]\n"
     ]
    },
    {
     "name": "stderr",
     "output_type": "stream",
     "text": [
      "Processing: γ=0.1, λ=5, k=20: 100%|██████████| 400/400 [00:04<00:00, 80.56it/s]\n"
     ]
    },
    {
     "name": "stdout",
     "output_type": "stream",
     "text": [
      "[0.9475, 1.4248558117599226]\n"
     ]
    },
    {
     "name": "stderr",
     "output_type": "stream",
     "text": [
      "Processing: γ=0.1, λ=10, k=20: 100%|██████████| 400/400 [00:04<00:00, 80.48it/s]\n"
     ]
    },
    {
     "name": "stdout",
     "output_type": "stream",
     "text": [
      "[0.95, 1.4065504068019892]\n"
     ]
    },
    {
     "name": "stderr",
     "output_type": "stream",
     "text": [
      "Processing: γ=0.1, λ=20, k=20: 100%|██████████| 400/400 [00:04<00:00, 80.92it/s]"
     ]
    },
    {
     "name": "stdout",
     "output_type": "stream",
     "text": [
      "[0.95, 1.2944300241744253]\n"
     ]
    },
    {
     "name": "stderr",
     "output_type": "stream",
     "text": [
      "\n"
     ]
    }
   ],
   "source": [
    "gamma_values = [0.005, 0.01, 0.05, 0.1]\n",
    "lambda_values = [0.1, 1, 5, 10, 20]\n",
    "k_values = [1,5, 10, 15, 20]\n",
    "\n",
    "PI_adaSecp_aci = np.zeros((N, 2))\n",
    "alpha_adaSecp_aci = np.zeros((N+1-train_lag))\n",
    "erro_adaSecp_aci = np.zeros((N+1-train_lag))\n",
    "\n",
    "alpha = 0.05\n",
    "\n",
    "\n",
    "# save ave_cov and ave_width\n",
    "results = {}\n",
    "\n",
    "for gamma in gamma_values:\n",
    "    \n",
    "    # Create two matrices to store the results of ave_cov and ave_width separately\n",
    "    cov_matrix = np.zeros((len(k_values), len(lambda_values)))\n",
    "    width_matrix = np.zeros((len(k_values), len(lambda_values)))\n",
    "    for i, k in enumerate(k_values):\n",
    "\n",
    "        for j, lamda in enumerate(lambda_values):\n",
    "            PI_adaSecp_aci = np.zeros((N, 2))\n",
    "            alpha_adaSecp_aci = np.zeros((N+1-train_lag))\n",
    "            erro_adaSecp_aci = np.zeros((N+1-train_lag))\n",
    "            count = 0\n",
    "            for n in tqdm(np.arange(train_lag, N), desc=f\"Processing: γ={gamma}, λ={lamda}, k={k}\"):\n",
    "\n",
    "                PI_adaSecp_aci[n, :], alpha_adaSecp_aci[count+1], erro_adaSecp_aci[count], _  = adaSecp_aci(count,\n",
    "                    X[(n-train_lag):n, :], Y[(n-train_lag):n], X[n:(n+1)], Y[n:(n+1)], alpha, alpha_adaSecp_aci[count], erro_adaSecp_aci, lamda, k, gamma)                                                                               \n",
    "                count = count + 1\n",
    "                \n",
    "            cov = (PI_adaSecp_aci[train_lag:,0]<=Y[train_lag:])*\\\n",
    "            (PI_adaSecp_aci[train_lag:,1]>=Y[train_lag:])\n",
    "            width = PI_adaSecp_aci[train_lag:,1]-PI_adaSecp_aci[train_lag:,0]\n",
    "\n",
    "            cov_matrix[i, j] = np.mean(cov)\n",
    "            width_matrix[i, j] = np.mean(width)\n",
    "\n",
    "            print([cov_matrix[i, j],width_matrix[i, j]])\n",
    "    \n",
    "    # Save the result matrices under the corresponding gamma key.\n",
    "    results[gamma] = {'ave_cov': cov_matrix, 'ave_width': width_matrix}\n"
   ]
  },
  {
   "cell_type": "code",
   "execution_count": 4,
   "id": "8ece268a",
   "metadata": {},
   "outputs": [
    {
     "name": "stdout",
     "output_type": "stream",
     "text": [
      "Gamma: 0.005\n",
      "Ave_Cov Matrix:\n",
      "[[0.9425 0.95   0.9625 0.9675 0.9675]\n",
      " [0.9425 0.9475 0.95   0.9575 0.9625]\n",
      " [0.9425 0.945  0.95   0.9575 0.965 ]\n",
      " [0.9425 0.945  0.945  0.9475 0.9575]\n",
      " [0.9425 0.9425 0.945  0.945  0.9525]]\n",
      "Ave_Width Matrix:\n",
      "[[1.37667725 1.3151026  1.27427851 1.2571045  1.25798015]\n",
      " [1.37669171 1.32953539 1.29935742 1.27128986 1.26442891]\n",
      " [1.37628162 1.35977991 1.31262877 1.26684313 1.25496616]\n",
      " [1.37629982 1.35995367 1.34012186 1.30039432 1.27180118]\n",
      " [1.37627967 1.37471456 1.36142797 1.33232127 1.29704182]]\n",
      "\n",
      "Gamma: 0.01\n",
      "Ave_Cov Matrix:\n",
      "[[0.9475 0.95   0.9625 0.965  0.965 ]\n",
      " [0.9475 0.95   0.9525 0.955  0.9625]\n",
      " [0.9475 0.95   0.95   0.9525 0.96  ]\n",
      " [0.9475 0.9475 0.9475 0.945  0.955 ]\n",
      " [0.9475 0.9475 0.9475 0.945  0.9525]]\n",
      "Ave_Width Matrix:\n",
      "[[1.41374672 1.36540622 1.25382117 1.23704384 1.24000661]\n",
      " [1.4137821  1.36722254 1.28553451 1.26029707 1.24646559]\n",
      " [1.41334614 1.40170412 1.36717465 1.28647575 1.24795882]\n",
      " [1.41335474 1.41483737 1.41719571 1.3704407  1.26829847]\n",
      " [1.41336786 1.4148179  1.41736395 1.38130072 1.3091481 ]]\n",
      "\n",
      "Gamma: 0.05\n",
      "Ave_Cov Matrix:\n",
      "[[0.95   0.95   0.955  0.955  0.96  ]\n",
      " [0.95   0.9475 0.95   0.9525 0.9525]\n",
      " [0.95   0.9475 0.9475 0.95   0.9525]\n",
      " [0.95   0.9475 0.9475 0.9475 0.9525]\n",
      " [0.95   0.9475 0.9475 0.9475 0.95  ]]\n",
      "Ave_Width Matrix:\n",
      "[[1.3992142  1.40378913 1.26958214 1.1874027  1.15587294]\n",
      " [1.39902435 1.4026664  1.33424931 1.29597418 1.2701951 ]\n",
      " [1.43369627 1.40036234 1.4277692  1.33936542 1.28687109]\n",
      " [1.43371044 1.432061   1.42811432 1.38504689 1.31259013]\n",
      " [1.43372289 1.43213739 1.42862835 1.38621918 1.3655394 ]]\n",
      "\n",
      "Gamma: 0.1\n",
      "Ave_Cov Matrix:\n",
      "[[0.9475 0.95   0.9525 0.9525 0.955 ]\n",
      " [0.9475 0.9475 0.95   0.95   0.95  ]\n",
      " [0.9475 0.9475 0.95   0.95   0.95  ]\n",
      " [0.9475 0.9475 0.9475 0.95   0.95  ]\n",
      " [0.9475 0.9475 0.9475 0.95   0.95  ]]\n",
      "Ave_Width Matrix:\n",
      "[[1.39944455 1.40089947 1.27140535 1.19559006 1.14707382]\n",
      " [1.39939183 1.39930708 1.37494468 1.3085394  1.31162835]\n",
      " [1.39925044 1.39883976 1.40005963 1.34160209 1.28352303]\n",
      " [1.39913583 1.39859321 1.42767089 1.40662018 1.30253608]\n",
      " [1.39916084 1.39886262 1.42485581 1.40655041 1.29443002]]\n",
      "\n"
     ]
    }
   ],
   "source": [
    "# print results\n",
    "for gamma, data in results.items():\n",
    "    print(f\"Gamma: {gamma}\")\n",
    "    print(\"Ave_Cov Matrix:\")\n",
    "    print(data['ave_cov'])\n",
    "    print(\"Ave_Width Matrix:\")\n",
    "    print(data['ave_width'])\n",
    "    print()"
   ]
  },
  {
   "cell_type": "code",
   "execution_count": 5,
   "id": "9e5e19f7",
   "metadata": {},
   "outputs": [
    {
     "data": {
      "image/png": "[encoded data removed]",
      "text/plain": [
       "<Figure size 1800x400 with 8 Axes>"
      ]
     },
     "metadata": {},
     "output_type": "display_data"
    },
    {
     "data": {
      "image/png": "[encoded data removed]",
      "text/plain": [
       "<Figure size 1800x400 with 8 Axes>"
      ]
     },
     "metadata": {},
     "output_type": "display_data"
    }
   ],
   "source": [
    "import numpy as np\n",
    "import matplotlib.pyplot as plt\n",
    "from matplotlib.ticker import FormatStrFormatter\n",
    "\n",
    "# coverage\n",
    "fig_cov = plt.figure(figsize=(18, 4))\n",
    "\n",
    "for idx, (gamma, data) in enumerate(results.items()):\n",
    "    cov_matrix = data['ave_cov']\n",
    "    \n",
    "    ax_cov = fig_cov.add_subplot(1, 4, idx + 1)\n",
    "    \n",
    "    contour_cov = ax_cov.contourf(k_values, lambda_values, cov_matrix.T, cmap='viridis')\n",
    "    ax_cov.set_title(f'$\\gamma$ = {gamma} (Cov)', fontsize=12)\n",
    "    ax_cov.set_xlabel('$k$', fontsize=12)\n",
    "    if idx == 0:\n",
    "        ax_cov.set_ylabel('$\\lambda$', fontsize=12)\n",
    "\n",
    "    ax_cov.tick_params(axis='both', which='major', labelsize=12)  \n",
    "    cbar_cov = fig_cov.colorbar(contour_cov, ax=ax_cov, shrink=0.9, aspect=15, pad=0.05)\n",
    "    cbar_cov.ax.tick_params(labelsize=11)  \n",
    "    cbar_cov.ax.yaxis.set_major_formatter(FormatStrFormatter('%.3f'))\n",
    "\n",
    "plt.tight_layout()\n",
    "plt.subplots_adjust(wspace=0.22, hspace=0.22) \n",
    "plt.savefig('./fig/COD_SA_cov_95', dpi=500, bbox_inches='tight')\n",
    "plt.show()\n",
    "\n",
    "# width\n",
    "fig_width = plt.figure(figsize=(18, 4))\n",
    "\n",
    "for idx, (gamma, data) in enumerate(results.items()):\n",
    "    width_matrix = data['ave_width']\n",
    "\n",
    "    ax_width = fig_width.add_subplot(1, 4, idx + 1)\n",
    "    \n",
    "    contour_width = ax_width.contourf(k_values, lambda_values, width_matrix.T, cmap='plasma')\n",
    "    ax_width.set_title(f'$\\gamma$ = {gamma} (Width)', fontsize=12)\n",
    "    ax_width.set_xlabel('$k$', fontsize=12)\n",
    "    if idx == 0:\n",
    "        ax_width.set_ylabel('$\\lambda$', fontsize=12)\n",
    "\n",
    "    ax_width.tick_params(axis='both', which='major', labelsize=12)\n",
    "\n",
    "    cbar_width = fig_width.colorbar(contour_width, ax=ax_width, shrink=0.9, aspect=15, pad=0.05)\n",
    "    cbar_width.ax.tick_params(labelsize=11)  \n",
    "    \n",
    "plt.tight_layout()\n",
    "plt.subplots_adjust(wspace=0.22, hspace=0.22) \n",
    "plt.savefig('./fig/COD_SA_width_95', dpi=500, bbox_inches='tight')\n",
    "plt.show()"
   ]
  }
 ],
 "metadata": {
  "kernelspec": {
   "display_name": "base",
   "language": "python",
   "name": "python3"
  },
  "language_info": {
   "codemirror_mode": {
    "name": "ipython",
    "version": 3
   },
   "file_extension": ".py",
   "mimetype": "text/x-python",
   "name": "python",
   "nbconvert_exporter": "python",
   "pygments_lexer": "ipython3",
   "version": "3.7.6"
  },
  "vscode": {
   "interpreter": {
    "hash": "ad2bdc8ecc057115af97d19610ffacc2b4e99fae6737bb82f5d7fb13d2f2c186"
   }
  }
 },
 "nbformat": 4,
 "nbformat_minor": 5
}
